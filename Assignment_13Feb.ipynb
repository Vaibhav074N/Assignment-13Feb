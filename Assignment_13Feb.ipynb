{
  "nbformat": 4,
  "nbformat_minor": 0,
  "metadata": {
    "colab": {
      "provenance": [],
      "authorship_tag": "ABX9TyPqQBBtxy8UbMQ1sVHj789m",
      "include_colab_link": true
    },
    "kernelspec": {
      "name": "python3",
      "display_name": "Python 3"
    },
    "language_info": {
      "name": "python"
    }
  },
  "cells": [
    {
      "cell_type": "markdown",
      "metadata": {
        "id": "view-in-github",
        "colab_type": "text"
      },
      "source": [
        "<a href=\"https://colab.research.google.com/github/Vaibhav074N/Assignment-13Feb/blob/main/Assignment_13Feb.ipynb\" target=\"_parent\"><img src=\"https://colab.research.google.com/assets/colab-badge.svg\" alt=\"Open In Colab\"/></a>"
      ]
    },
    {
      "cell_type": "markdown",
      "source": [
        "#####Q1. Explain why we have to use the Exception class while creating a Custom Exception.\n",
        "#####Ans: Exception is a best practice when creating custom exceptions in Python, as it ensures that your exception will behave like a standard exception, and gives you access to a lot of built-in functionality."
      ],
      "metadata": {
        "id": "0TB5o3LSh9aB"
      }
    },
    {
      "cell_type": "markdown",
      "source": [
        "#####Q2."
      ],
      "metadata": {
        "id": "0JL5Tom54g1i"
      }
    },
    {
      "cell_type": "code",
      "execution_count": null,
      "metadata": {
        "id": "qWsiokIPhw0A"
      },
      "outputs": [],
      "source": [
        "import sys\n",
        "\n",
        "def print_exception_hierarchy():\n",
        "    exception_hierarchy = {}\n",
        "    for exc in reversed(sys.exc_info()[1].__class__.__mro__):\n",
        "        exception_hierarchy[exc.__name__] = [c.__name__ for c in exc.__subclasses__()]\n",
        "    for exc in exception_hierarchy:\n",
        "        print(exc)\n",
        "        if exception_hierarchy[exc]:\n",
        "            for sub_exc in exception_hierarchy[exc]:\n",
        "                print(\" |->\", sub_exc)\n",
        "\n",
        "if __name__ == '__main__':\n",
        "    print_exception_hierarchy()\n"
      ]
    },
    {
      "cell_type": "markdown",
      "source": [
        "#####Q3.\n",
        "#####Ans: The ArithmeticError class in Python is a base class for errors that occur during arithmetic operations. It is a subclass of the Exception class, and it defines several specific error types that can occur during arithmetic calculations. Two of these error types are:\n",
        "#####(1)ZeroDivisionError\n",
        "#####(2)OverflowError\n",
        "#####(3)ValueError\n",
        "#####(4)FloatingPointError"
      ],
      "metadata": {
        "id": "bYWVc3kO5F2B"
      }
    },
    {
      "cell_type": "code",
      "source": [
        "#ZeroDivisionError\n",
        "x=8\n",
        "y=0\n",
        "print(x/y)"
      ],
      "metadata": {
        "id": "tEEFnUE-6Rcs"
      },
      "execution_count": null,
      "outputs": []
    },
    {
      "cell_type": "code",
      "source": [
        "#ValueError\n",
        "x = int(\"abc\")\n",
        "print(x)"
      ],
      "metadata": {
        "id": "eAmyCJQs6fiE"
      },
      "execution_count": null,
      "outputs": []
    },
    {
      "cell_type": "markdown",
      "source": [
        "#####Q4.\n",
        "#####Ans: The LookupError class in Python is a base class for errors that occur when an index or key is not found in a sequence or mapping. It is a subclass of the Exception class, and it defines several specific error types that can occur when looking up an index or key."
      ],
      "metadata": {
        "id": "G98YBVwG7CON"
      }
    },
    {
      "cell_type": "code",
      "source": [
        "#KeyError\n",
        "a={1:'sam',2:'om'}\n",
        "print(a[3])"
      ],
      "metadata": {
        "id": "VAHu0Jn37dqp"
      },
      "execution_count": null,
      "outputs": []
    },
    {
      "cell_type": "code",
      "source": [
        "#IndexError\n",
        "a=[4,5,7]\n",
        "print(a[3])"
      ],
      "metadata": {
        "id": "wVU_gApc7_tZ"
      },
      "execution_count": null,
      "outputs": []
    },
    {
      "cell_type": "markdown",
      "source": [
        "#####Q5.\n",
        "#####Ans:ImportError is an exception that is raised when an import statement fails to find and load a module. This error can occur for several reasons, such as if the module name is misspelled, if the module is not installed, or if there are issues with the module's code or dependencies.\n",
        "##### ModuleNotFoundError:- This error is a subclass of ImportError, and it is raised when Python cannot find the specified module. The ModuleNotFoundError provides a clearer error message compared to the general ImportError, as it specifically states that the module was not found."
      ],
      "metadata": {
        "id": "AgwzBTeQ8QuP"
      }
    },
    {
      "cell_type": "code",
      "source": [
        "#ModuleNotFoundError\n",
        "import data"
      ],
      "metadata": {
        "id": "cLpNRnw-9IxO"
      },
      "execution_count": null,
      "outputs": []
    },
    {
      "cell_type": "markdown",
      "source": [
        "######Q6.\n",
        "######Ans:Use built-in exceptions,Use specific exceptions and finally keyword.Use the finally block to clean up resources"
      ],
      "metadata": {
        "id": "4FlkuwuS-NR8"
      }
    },
    {
      "cell_type": "code",
      "source": [],
      "metadata": {
        "id": "bx8mwNUP-hqc"
      },
      "execution_count": null,
      "outputs": []
    }
  ]
}